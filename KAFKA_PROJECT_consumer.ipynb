{
  "nbformat": 4,
  "nbformat_minor": 0,
  "metadata": {
    "colab": {
      "provenance": []
    },
    "kernelspec": {
      "name": "python3",
      "display_name": "Python 3"
    },
    "language_info": {
      "name": "python"
    }
  },
  "cells": [
    {
      "cell_type": "code",
      "source": [
        "!pip install confluent-kafka\n"
      ],
      "metadata": {
        "colab": {
          "base_uri": "https://localhost:8080/"
        },
        "id": "cq6EFtjGtOSJ",
        "outputId": "4a28d6e7-8f51-4753-e295-02ddf656a753"
      },
      "execution_count": 16,
      "outputs": [
        {
          "output_type": "stream",
          "name": "stdout",
          "text": [
            "Looking in indexes: https://pypi.org/simple, https://us-python.pkg.dev/colab-wheels/public/simple/\n",
            "Requirement already satisfied: confluent-kafka in /usr/local/lib/python3.10/dist-packages (2.1.1)\n"
          ]
        }
      ]
    },
    {
      "cell_type": "code",
      "source": [
        "from confluent_kafka import Consumer, KafkaError\n",
        "import json\n",
        "import pandas as pd\n",
        "import matplotlib.pyplot as plt\n",
        "\n",
        "# Set up Confluent Cloud credentials\n",
        "conf = {\n",
        "    'bootstrap.servers': 'pkc-6ojv2.us-west4.gcp.confluent.cloud:9092',\n",
        "    'security.protocol': 'SASL_SSL',\n",
        "    'sasl.mechanism': 'PLAIN',\n",
        "    'sasl.username': 'XK7RD6JVKVZVZYOF',\n",
        "    'sasl.password': 'g7YSreaLotK0LfCGixXIgfXTtCuzLgOVdpoHWdBO9bCHLDb8/ly/xZvR1+IjNBRS',\n",
        "    'group.id': 'learning'\n",
        "}\n",
        "\n",
        "# Create a Kafka consumer instance\n",
        "consumer = Consumer(conf)\n",
        "topic_name = 'TelcomTopic'\n",
        "\n",
        "consumer.subscribe([topic_name])\n",
        "while True:\n",
        "    msg = consumer.poll(1.0)\n",
        "    if msg is None:\n",
        "        continue\n",
        "    if msg.error():\n",
        "        print(\"Consumer error: {}\".format(msg.error()))\n",
        "        continue\n",
        "    message = msg.value().decode('utf-8')\n",
        "    print('Received message: {}'.format(message))\n",
        "    \n",
        "    # Process the received message by perfoming data cleaning,calculations and visualizations.\n",
        "data = json.loads(message)\n",
        "\n",
        "# Data cleaning\n",
        "cleaned_data = {\n",
        "    \"transaction_id\": data[\"transaction_id\"],\n",
        "    \"sender_phone_number\": data[\"sender_phone_number\"],\n",
        "    \"receiver_phone_number\": data[\"receiver_phone_number\"],\n",
        "    \"transaction_amount\": data[\"transaction_amount\"],\n",
        "    \"transaction_time\": data[\"transaction_time\"]\n",
        "}\n",
        "\n",
        "# Perform calculations\n",
        "transaction_amount = cleaned_data[\"transaction_amount\"]\n",
        "transaction_time = cleaned_data[\"transaction_time\"]\n",
        "\n",
        "# Create visualizations\n",
        "transaction_times = [data[\"transaction_time\"] for data in processed_data]\n",
        "transaction_amounts = [data[\"transaction_amount\"] for data in processed_data]\n",
        "\n",
        "plt.plot(transaction_times, transaction_amounts)\n",
        "plt.xlabel(\"Transaction Time\")\n",
        "plt.ylabel(\"Transaction Amount\")\n",
        "plt.title(\"Mobile Money Transactions\")\n",
        "plt.show()\n",
        "\n",
        "# Print the processed data\n",
        "print(cleaned_data)"
      ],
      "metadata": {
        "id": "c2hUjRFg7SKC"
      },
      "execution_count": null,
      "outputs": []
    }
  ]
}