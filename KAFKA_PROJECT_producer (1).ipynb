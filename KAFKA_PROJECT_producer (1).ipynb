{
  "nbformat": 4,
  "nbformat_minor": 0,
  "metadata": {
    "colab": {
      "provenance": []
    },
    "kernelspec": {
      "name": "python3",
      "display_name": "Python 3"
    },
    "language_info": {
      "name": "python"
    }
  },
  "cells": [
    {
      "cell_type": "code",
      "source": [
        "!pip install confluent-kafka\n",
        "from confluent_kafka import Producer, Consumer\n",
        "import json\n",
        "import random\n",
        "import time\n",
        "\n",
        "# Set up Confluent Cloud credentials\n",
        "conf = {\n",
        "    'bootstrap.servers': 'pkc-6ojv2.us-west4.gcp.confluent.cloud:9092',\n",
        "    'security.protocol': 'SASL_SSL',\n",
        "    'sasl.mechanism': 'PLAIN',\n",
        "    'sasl.username': 'XK7RD6JVKVZVZYOF',\n",
        "    'sasl.password': 'g7YSreaLotK0LfCGixXIgfXTtCuzLgOVdpoHWdBO9bCHLDb8/ly/xZvR1+IjNBRS',\n",
        "}\n",
        "\n",
        "# Create a Kafka producer instance\n",
        "producer = Producer(conf)\n",
        "# Publish dummy data to the topic every second\n",
        "topic_name = 'TelcomTopic'\n",
        "\n",
        "while True:\n",
        "    # Generate dummy mobile money data\n",
        "    dummy_data = {\n",
        "        \"transaction_id\": \"12345\",\n",
        "        \"sender_phone_number\": \"256777123456\",\n",
        "        \"receiver_phone_number\": \"256772987654\",\n",
        "        \"transaction_amount\": 100000,\n",
        "        \"transaction_time\": \"2023-04-19 12:00:00\"\n",
        "    }\n",
        "    \n",
        "    # Convert the data to JSON string\n",
        "    message = json.dumps(dummy_data)\n",
        "    \n",
        "    # Produce the message to the Kafka topic\n",
        "    producer.produce(topic_name, message.encode('utf-8'))\n",
        "    producer.flush()\n",
        "\n",
        "    print(f\"Published message '{message}' to topic '{TelcomTopic}'\")\n",
        "    time.sleep(1)"
      ],
      "metadata": {
        "id": "fz0TpuQ4rg2J"
      },
      "execution_count": null,
      "outputs": []
    }
  ]
}